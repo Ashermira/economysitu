{
 "cells": [
  {
   "cell_type": "code",
   "execution_count": 1,
   "metadata": {},
   "outputs": [],
   "source": [
    "import pandas as pd"
   ]
  },
  {
   "cell_type": "code",
   "execution_count": 2,
   "metadata": {},
   "outputs": [],
   "source": [
    "df = pd.read_csv(\"summary.csv\")"
   ]
  },
  {
   "cell_type": "code",
   "execution_count": 12,
   "metadata": {},
   "outputs": [
    {
     "name": "stdout",
     "output_type": "stream",
     "text": [
      "{0,3678.7},{1,4100.5},{2,4587.6},{3,4935.8},{4,5373.4},{5,6020.9},{6,7278.5},{7,9098.9},{8,10376.2},{9,12174.6},{10,15180.4},{11,17179.7},{12,18872.9},{13,22005.6},{14,27194.5},{15,35673.2},{16,48637.5},{17,61339.9},{18,71813.6},{19,79715.0},{20,85195.5},{21,90564.4},{22,100280.1},{23,110863.1},{24,121717.4},{25,137422.0},{26,161840.2},{27,187318.9},{28,219438.5},{29,270092.3},{30,319244.6},{31,348517.7},{32,412119.3},{33,487940.2},{34,538580.0},{35,592963.2},{36,643563.1},{37,688858.2},{38,746395.1},{39,832035.9},{40,919281.1},{41,986515.2},{42,1013567.0},"
     ]
    }
   ],
   "source": [
    "df['gdp']\n",
    "for i in range(43):\n",
    "    print('{' + '{0},{1}'.format(i, df['gdp'][i]) + '}', end=\",\")"
   ]
  }
 ],
 "metadata": {
  "kernelspec": {
   "display_name": "base",
   "language": "python",
   "name": "python3"
  },
  "language_info": {
   "codemirror_mode": {
    "name": "ipython",
    "version": 3
   },
   "file_extension": ".py",
   "mimetype": "text/x-python",
   "name": "python",
   "nbconvert_exporter": "python",
   "pygments_lexer": "ipython3",
   "version": "3.11.3"
  },
  "orig_nbformat": 4
 },
 "nbformat": 4,
 "nbformat_minor": 2
}
